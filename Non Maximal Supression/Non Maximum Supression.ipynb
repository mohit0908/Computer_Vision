{
 "cells": [
  {
   "cell_type": "markdown",
   "metadata": {},
   "source": [
    "## Non Maximum Supression for object detection\n"
   ]
  },
  {
   "cell_type": "code",
   "execution_count": 7,
   "metadata": {},
   "outputs": [],
   "source": [
    "# import necessary packages\n",
    "import numpy as np\n",
    "import cv2\n",
    "import matplotlib.pyplot as plt\n",
    "%matplotlib inline"
   ]
  },
  {
   "cell_type": "code",
   "execution_count": 8,
   "metadata": {},
   "outputs": [],
   "source": [
    "def non_max_suppression_slow(boxes, overlapThresh):\n",
    "    # if there are no boxes, return an empty list\n",
    "    if len(boxes) == 0:\n",
    "        return []\n",
    "\n",
    "    # initialize the list of picked indexes\n",
    "    pick = []\n",
    "\n",
    "    # grab the coordinates of the bounding boxes\n",
    "    x1 = boxes[:,0]\n",
    "    y1 = boxes[:,1]\n",
    "    x2 = boxes[:,2]\n",
    "    y2 = boxes[:,3]\n",
    "\n",
    "\n",
    "    # compute the area of the bounding boxes and sort the bounding\n",
    "    # boxes by the bottom-right y-coordinate of the bounding box\n",
    "    area = (x2 - x1 + 1) * (y2 - y1 + 1)\n",
    "    idxs = np.argsort(y2)\n",
    "\n",
    "    # keep looping while some indexes still remain in the indexes\n",
    "    # list\n",
    "    while len(idxs) > 0:\n",
    "        # grab the last index in the indexes list, add the index\n",
    "        # value to the list of picked indexes, then initialize\n",
    "        # the suppression list (i.e. indexes that will be deleted)\n",
    "        # using the last index\n",
    "        last = len(idxs) - 1\n",
    "        i = idxs[last]\n",
    "        pick.append(i)\n",
    "        suppress = [last]\n",
    "\n",
    "        # loop over all indexes in the indexes list\n",
    "        for pos in range(0, last):\n",
    "            # grab the current index\n",
    "            j = idxs[pos]\n",
    "\n",
    "            # find the largest (x, y) coordinates for the start of\n",
    "            # the bounding box and the smallest (x, y) coordinates\n",
    "            # for the end of the bounding box\n",
    "            xx1 = max(x1[i], x1[j])\n",
    "            yy1 = max(y1[i], y1[j])\n",
    "            xx2 = min(x2[i], x2[j])\n",
    "            yy2 = min(y2[i], y2[j])\n",
    "\n",
    "            # compute the width and height of the bounding box\n",
    "            w = max(0, xx2 - xx1 + 1)\n",
    "            h = max(0, yy2 - yy1 + 1)\n",
    "\n",
    "            # compute the ratio of overlap between the computed\n",
    "            # bounding box and the bounding box in the area list\n",
    "            overlap = float(w * h) / area[j]\n",
    "\n",
    "            # if there is sufficient overlap, suppress the\n",
    "            # current bounding box\n",
    "            if overlap > overlapThresh:\n",
    "                suppress.append(pos)\n",
    "\n",
    "        # delete all indexes from the index list that are in the\n",
    "        # suppression list\n",
    "        idxs = np.delete(idxs, suppress)\n",
    "\n",
    "    # return only the bounding boxes that were picked\n",
    "    return boxes[pick]"
   ]
  },
  {
   "cell_type": "code",
   "execution_count": 11,
   "metadata": {},
   "outputs": [
    {
     "name": "stdout",
     "output_type": "stream",
     "text": [
      "Initial bounding boxes: 3\n",
      "After applying non-maximum, bounding boxes: 1\n",
      "Images saved in :images\n",
      "\n",
      "Initial bounding boxes: 4\n",
      "After applying non-maximum, bounding boxes: 1\n",
      "Images saved in :images\n",
      "\n"
     ]
    }
   ],
   "source": [
    "# construct a list containing the images that will be examined\n",
    "# along with their respective bounding boxes\n",
    "# This is a sample list of images. Own images can be annotated using LabelImg tool (freely available for linux)\n",
    "\n",
    "\n",
    "images = [\n",
    "    (\"images/lion.jpg\", np.array([\n",
    "    (489, 76, 902, 444),\n",
    "    (513, 93, 954, 438),\n",
    "    (447, 75, 973, 456)])),\n",
    "    (\"images/dog.jpg\", np.array([\n",
    "    (24, 31, 178, 179),\n",
    "    (29, 38, 171, 164),\n",
    "    (17, 24, 175, 169),\n",
    "    (5, 35, 189, 164)]))\n",
    "]\n",
    "\n",
    "\n",
    "# loop over the images\n",
    "for (imagePath, boundingBoxes) in images:\n",
    "    # load the image and clone it\n",
    "    print(\"Initial bounding boxes: {}\".format(len(boundingBoxes)))\n",
    "    image = cv2.imread(imagePath)\n",
    "    orig = image.copy()\n",
    "\n",
    "    # loop over the bounding boxes for each image and draw them\n",
    "    for (startX, startY, endX, endY) in boundingBoxes:\n",
    "        cv2.rectangle(orig, (startX, startY), (endX, endY), (0, 0, 255), 2)\n",
    "\n",
    "    # perform non-maximum suppression on the bounding boxes\n",
    "    pick = non_max_suppression_slow(boundingBoxes, 0.3)\n",
    "    print(\"After applying non-maximum, bounding boxes: {}\".format(len(pick)))\n",
    "\n",
    "    # loop over the picked bounding boxes and draw them\n",
    "    for (startX, startY, endX, endY) in pick:\n",
    "        cv2.rectangle(image, (startX, startY), (endX, endY), (0, 255, 0), 2)\n",
    "        cv2.imwrite(imagePath.split('.')[0]+'_orig.jpg', orig)\n",
    "        cv2.imwrite(imagePath.split('.')[0]+'_nms.jpg', image)\n",
    "        print('Images saved in :{}\\n'.format(imagePath.split('/')[0]))"
   ]
  },
  {
   "cell_type": "code",
   "execution_count": null,
   "metadata": {},
   "outputs": [],
   "source": []
  },
  {
   "cell_type": "code",
   "execution_count": null,
   "metadata": {},
   "outputs": [],
   "source": []
  }
 ],
 "metadata": {
  "kernelspec": {
   "display_name": "Python 3",
   "language": "python",
   "name": "python3"
  },
  "language_info": {
   "codemirror_mode": {
    "name": "ipython",
    "version": 3
   },
   "file_extension": ".py",
   "mimetype": "text/x-python",
   "name": "python",
   "nbconvert_exporter": "python",
   "pygments_lexer": "ipython3",
   "version": "3.5.6"
  }
 },
 "nbformat": 4,
 "nbformat_minor": 2
}
